{
 "cells": [
  {
   "cell_type": "code",
   "execution_count": 11,
   "metadata": {},
   "outputs": [],
   "source": [
    "import shutil\n",
    "import os\n",
    "\n",
    "def file_copy(src_dir,dest_dir1,dest_dir2):\n",
    "    src_files = os.listdir(src_dir)\n",
    "    i=0\n",
    "    for file_name in src_files:\n",
    "        full_file_name = os.path.join(src_dir, file_name)\n",
    "        if os.path.isfile(full_file_name):\n",
    "            if i<500:\n",
    "                shutil.copy(full_file_name, dest_dir1)\n",
    "            elif i in range(500,600):\n",
    "                shutil.copy(full_file_name, dest_dir2)\n",
    "            \n",
    "        i+=1\n"
   ]
  }
 ],
 "metadata": {
  "kernelspec": {
   "display_name": "Python 3",
   "language": "python",
   "name": "python3"
  },
  "language_info": {
   "codemirror_mode": {
    "name": "ipython",
    "version": 3
   },
   "file_extension": ".py",
   "mimetype": "text/x-python",
   "name": "python",
   "nbconvert_exporter": "python",
   "pygments_lexer": "ipython3",
   "version": "3.7.3"
  }
 },
 "nbformat": 4,
 "nbformat_minor": 2
}
